{
 "cells": [
  {
   "cell_type": "markdown",
   "metadata": {},
   "source": [
    "## Heroes of Pymoli\n",
    "### Data compiled by Suraj Thyagaraj\n",
    "#### Submitted on 03/03/2020"
   ]
  },
  {
   "cell_type": "code",
   "execution_count": 104,
   "metadata": {},
   "outputs": [],
   "source": [
    "# Dependencies and Setup\n",
    "import pandas as pd\n",
    "import numpy as np\n",
    "\n",
    "# File to Load (Remember to Change These)\n",
    "datafile = \"Resources/purchase_data.csv\"\n",
    "\n",
    "# Read Purchasing File and store into Pandas data frame\n",
    "df = pd.read_csv(datafile)"
   ]
  },
  {
   "cell_type": "code",
   "execution_count": 105,
   "metadata": {},
   "outputs": [
    {
     "data": {
      "text/html": "<div>\n<style scoped>\n    .dataframe tbody tr th:only-of-type {\n        vertical-align: middle;\n    }\n\n    .dataframe tbody tr th {\n        vertical-align: top;\n    }\n\n    .dataframe thead th {\n        text-align: right;\n    }\n</style>\n<table border=\"1\" class=\"dataframe\">\n  <thead>\n    <tr style=\"text-align: right;\">\n      <th></th>\n      <th>Purchase ID</th>\n      <th>SN</th>\n      <th>Age</th>\n      <th>Gender</th>\n      <th>Item ID</th>\n      <th>Item Name</th>\n      <th>Price</th>\n    </tr>\n  </thead>\n  <tbody>\n    <tr>\n      <td>0</td>\n      <td>0</td>\n      <td>Lisim78</td>\n      <td>20</td>\n      <td>Male</td>\n      <td>108</td>\n      <td>Extraction, Quickblade Of Trembling Hands</td>\n      <td>3.53</td>\n    </tr>\n    <tr>\n      <td>1</td>\n      <td>1</td>\n      <td>Lisovynya38</td>\n      <td>40</td>\n      <td>Male</td>\n      <td>143</td>\n      <td>Frenzied Scimitar</td>\n      <td>1.56</td>\n    </tr>\n    <tr>\n      <td>2</td>\n      <td>2</td>\n      <td>Ithergue48</td>\n      <td>24</td>\n      <td>Male</td>\n      <td>92</td>\n      <td>Final Critic</td>\n      <td>4.88</td>\n    </tr>\n    <tr>\n      <td>3</td>\n      <td>3</td>\n      <td>Chamassasya86</td>\n      <td>24</td>\n      <td>Male</td>\n      <td>100</td>\n      <td>Blindscythe</td>\n      <td>3.27</td>\n    </tr>\n    <tr>\n      <td>4</td>\n      <td>4</td>\n      <td>Iskosia90</td>\n      <td>23</td>\n      <td>Male</td>\n      <td>131</td>\n      <td>Fury</td>\n      <td>1.44</td>\n    </tr>\n  </tbody>\n</table>\n</div>",
      "text/plain": "   Purchase ID             SN  Age Gender  Item ID  \\\n0            0        Lisim78   20   Male      108   \n1            1    Lisovynya38   40   Male      143   \n2            2     Ithergue48   24   Male       92   \n3            3  Chamassasya86   24   Male      100   \n4            4      Iskosia90   23   Male      131   \n\n                                   Item Name  Price  \n0  Extraction, Quickblade Of Trembling Hands   3.53  \n1                          Frenzied Scimitar   1.56  \n2                               Final Critic   4.88  \n3                                Blindscythe   3.27  \n4                                       Fury   1.44  "
     },
     "execution_count": 105,
     "metadata": {},
     "output_type": "execute_result"
    }
   ],
   "source": [
    "#Preliminary data analysis, checks\n",
    "df.head(5)\n",
    "# list(df.columns)\n",
    "# df.describe()"
   ]
  },
  {
   "cell_type": "markdown",
   "metadata": {},
   "source": [
    "## Player Count"
   ]
  },
  {
   "cell_type": "markdown",
   "metadata": {},
   "source": [
    "* Display the total number of players\n"
   ]
  },
  {
   "cell_type": "code",
   "execution_count": 106,
   "metadata": {},
   "outputs": [
    {
     "name": "stdout",
     "output_type": "stream",
     "text": "There are 576 total players \n"
    },
    {
     "data": {
      "text/html": "<div>\n<style scoped>\n    .dataframe tbody tr th:only-of-type {\n        vertical-align: middle;\n    }\n\n    .dataframe tbody tr th {\n        vertical-align: top;\n    }\n\n    .dataframe thead th {\n        text-align: right;\n    }\n</style>\n<table border=\"1\" class=\"dataframe\">\n  <thead>\n    <tr style=\"text-align: right;\">\n      <th></th>\n      <th>Total Players</th>\n    </tr>\n  </thead>\n  <tbody>\n    <tr>\n      <td>0</td>\n      <td>576</td>\n    </tr>\n  </tbody>\n</table>\n</div>",
      "text/plain": "   Total Players\n0            576"
     },
     "execution_count": 106,
     "metadata": {},
     "output_type": "execute_result"
    }
   ],
   "source": [
    "# For total player count, count the total unique SN values\n",
    "tp = df.nunique()['SN']\n",
    "df_Players = pd.DataFrame([{\"Total Players\": df[\"SN\"].nunique()}])\n",
    "print(\" There are \" + str(tp) + \" total players \")\n",
    "df_Players\n"
   ]
  },
  {
   "cell_type": "markdown",
   "metadata": {},
   "source": [
    "## Purchasing Analysis (Total)"
   ]
  },
  {
   "cell_type": "markdown",
   "metadata": {},
   "source": [
    "* Run basic calculations to obtain number of unique items, average price, etc.\n",
    "\n",
    "\n",
    "* Create a summary data frame to hold the results\n",
    "\n",
    "\n",
    "* Optional: give the displayed data cleaner formatting\n",
    "\n",
    "\n",
    "* Display the summary data frame\n"
   ]
  },
  {
   "cell_type": "code",
   "execution_count": 107,
   "metadata": {},
   "outputs": [
    {
     "data": {
      "text/html": "<div>\n<style scoped>\n    .dataframe tbody tr th:only-of-type {\n        vertical-align: middle;\n    }\n\n    .dataframe tbody tr th {\n        vertical-align: top;\n    }\n\n    .dataframe thead th {\n        text-align: right;\n    }\n</style>\n<table border=\"1\" class=\"dataframe\">\n  <thead>\n    <tr style=\"text-align: right;\">\n      <th></th>\n      <th>Average Price</th>\n      <th>Unique Items</th>\n      <th>Total Purchases</th>\n      <th>Total Revenue</th>\n    </tr>\n  </thead>\n  <tbody>\n    <tr>\n      <td>0</td>\n      <td>$3.05</td>\n      <td>183</td>\n      <td>780</td>\n      <td>$2,379.77</td>\n    </tr>\n  </tbody>\n</table>\n</div>",
      "text/plain": "  Average Price  Unique Items  Total Purchases Total Revenue\n0         $3.05           183              780     $2,379.77"
     },
     "execution_count": 107,
     "metadata": {},
     "output_type": "execute_result"
    }
   ],
   "source": [
    "#Create a dataframe of Summary metrics\n",
    "Summary = pd.DataFrame([\n",
    "        {\"Average Price\": df[\"Price\"].mean(), \"Unique Items\": len(df[\"Item ID\"].value_counts()), \n",
    "        \"Total Purchases\": df['Price'].count(), \"Total Revenue\": df[\"Price\"].sum()} ])\n",
    "\n",
    "Summary['Average Price'] = Summary['Average Price'].map(\"${:,.2f}\".format)\n",
    "Summary['Total Revenue'] = Summary['Total Revenue'].map(\"${:,.2f}\".format)\n",
    "Summary"
   ]
  },
  {
   "cell_type": "markdown",
   "metadata": {},
   "source": [
    "## Gender Demographics"
   ]
  },
  {
   "cell_type": "markdown",
   "metadata": {},
   "source": [
    "* Percentage and Count of Male Players\n",
    "\n",
    "\n",
    "* Percentage and Count of Female Players\n",
    "\n",
    "\n",
    "* Percentage and Count of Other / Non-Disclosed\n",
    "\n",
    "\n"
   ]
  },
  {
   "cell_type": "code",
   "execution_count": 108,
   "metadata": {},
   "outputs": [
    {
     "data": {
      "text/html": "<div>\n<style scoped>\n    .dataframe tbody tr th:only-of-type {\n        vertical-align: middle;\n    }\n\n    .dataframe tbody tr th {\n        vertical-align: top;\n    }\n\n    .dataframe thead th {\n        text-align: right;\n    }\n</style>\n<table border=\"1\" class=\"dataframe\">\n  <thead>\n    <tr style=\"text-align: right;\">\n      <th></th>\n      <th>Percentage of Players</th>\n      <th>Total Count</th>\n    </tr>\n    <tr>\n      <th>Gender</th>\n      <th></th>\n      <th></th>\n    </tr>\n  </thead>\n  <tbody>\n    <tr>\n      <td>Male</td>\n      <td>84.03%</td>\n      <td>484</td>\n    </tr>\n    <tr>\n      <td>Female</td>\n      <td>14.06%</td>\n      <td>81</td>\n    </tr>\n    <tr>\n      <td>Other / Non-Disclosed</td>\n      <td>1.91%</td>\n      <td>11</td>\n    </tr>\n  </tbody>\n</table>\n</div>",
      "text/plain": "                      Percentage of Players  Total Count\nGender                                                  \nMale                                 84.03%          484\nFemale                               14.06%           81\nOther / Non-Disclosed                 1.91%           11"
     },
     "execution_count": 108,
     "metadata": {},
     "output_type": "execute_result"
    }
   ],
   "source": [
    "#use Groupby to create a group based on Gender\n",
    "gender_data = df.groupby(\"Gender\")\n",
    "gender_data_counts = gender_data.nunique()[\"SN\"] #create another series from Gender with unique players\n",
    "gender_data_percents = gender_data_counts / tp * 100 #compute percent of male/female/other by div total players\n",
    "\n",
    "df_Gender = pd.DataFrame({\"Percentage of Players\": gender_data_percents, \"Total Count\": gender_data_counts}) # Create a dataframe with count, % of male/female/other gamers\n",
    "df_Gender = df_Gender.sort_values([\"Total Count\"], ascending = False) # Sort this dataframe in descending order of total count\n",
    "# df_Gender.style.format({\"Percentage of Players\":\"{:.2f}\"})\n",
    "df_Gender['Percentage of Players'] = df_Gender['Percentage of Players'].map(\"{:,.2f}%\".format)\n",
    "df_Gender"
   ]
  },
  {
   "cell_type": "markdown",
   "metadata": {},
   "source": [
    "\n",
    "## Purchasing Analysis (Gender)"
   ]
  },
  {
   "cell_type": "markdown",
   "metadata": {},
   "source": [
    "* Run basic calculations to obtain purchase count, avg. purchase price, avg. purchase total per person etc. by gender\n",
    "\n",
    "\n",
    "\n",
    "\n",
    "* Create a summary data frame to hold the results\n",
    "\n",
    "\n",
    "* Optional: give the displayed data cleaner formatting\n",
    "\n",
    "\n",
    "* Display the summary data frame"
   ]
  },
  {
   "cell_type": "code",
   "execution_count": 109,
   "metadata": {},
   "outputs": [
    {
     "data": {
      "text/html": "<div>\n<style scoped>\n    .dataframe tbody tr th:only-of-type {\n        vertical-align: middle;\n    }\n\n    .dataframe tbody tr th {\n        vertical-align: top;\n    }\n\n    .dataframe thead th {\n        text-align: right;\n    }\n</style>\n<table border=\"1\" class=\"dataframe\">\n  <thead>\n    <tr style=\"text-align: right;\">\n      <th></th>\n      <th>Purchase Count</th>\n      <th>Average Purchase Price</th>\n      <th>Total Purchase Value</th>\n      <th>Avg Total Purchase per Person</th>\n    </tr>\n    <tr>\n      <th>Gender</th>\n      <th></th>\n      <th></th>\n      <th></th>\n      <th></th>\n    </tr>\n  </thead>\n  <tbody>\n    <tr>\n      <td>Male</td>\n      <td>652</td>\n      <td>$3.02</td>\n      <td>$1,967.64</td>\n      <td>$4.07</td>\n    </tr>\n    <tr>\n      <td>Female</td>\n      <td>113</td>\n      <td>$3.20</td>\n      <td>$361.94</td>\n      <td>$4.47</td>\n    </tr>\n    <tr>\n      <td>Other / Non-Disclosed</td>\n      <td>15</td>\n      <td>$3.35</td>\n      <td>$50.19</td>\n      <td>$4.56</td>\n    </tr>\n  </tbody>\n</table>\n</div>",
      "text/plain": "                       Purchase Count Average Purchase Price  \\\nGender                                                         \nMale                              652                  $3.02   \nFemale                            113                  $3.20   \nOther / Non-Disclosed              15                  $3.35   \n\n                      Total Purchase Value Avg Total Purchase per Person  \nGender                                                                    \nMale                             $1,967.64                         $4.07  \nFemale                             $361.94                         $4.47  \nOther / Non-Disclosed               $50.19                         $4.56  "
     },
     "execution_count": 109,
     "metadata": {},
     "output_type": "execute_result"
    }
   ],
   "source": [
    "#use Groupby to create a group based on Gender and compute count, mean, etc\n",
    "purchase_count = df.groupby(\"Gender\")[\"Purchase ID\"].count() \n",
    "avg_purchase_price = df.groupby(\"Gender\")[\"Price\"].mean()\n",
    "total_purchase_value = df.groupby(\"Gender\")[\"Price\"].sum()\n",
    "avg_purchase_value_person = total_purchase_value/gender_data_counts\n",
    "\n",
    "gender_purchase_data = pd.DataFrame({\"Purchase Count\": purchase_count, \n",
    "                                    \"Average Purchase Price\": avg_purchase_price,\n",
    "                                    \"Total Purchase Value\":total_purchase_value,\n",
    "                                    \"Avg Total Purchase per Person\": avg_purchase_value_person})\n",
    "\n",
    "gender_purchase_data = gender_purchase_data.sort_values([\"Total Purchase Value\"], ascending = False) # Sort this dataframe in descending order of total purchase\n",
    "gender_purchase_data['Average Purchase Price'] = gender_purchase_data['Average Purchase Price'].map(\"${:,.2f}\".format) # formatting data display\n",
    "gender_purchase_data['Total Purchase Value'] = gender_purchase_data['Total Purchase Value'].map(\"${:,.2f}\".format) # formatting data display\n",
    "gender_purchase_data['Avg Total Purchase per Person'] = gender_purchase_data['Avg Total Purchase per Person'].map(\"${:,.2f}\".format) # formatting data display\n",
    "\n",
    "gender_purchase_data\n"
   ]
  },
  {
   "cell_type": "markdown",
   "metadata": {},
   "source": [
    "## Age Demographics"
   ]
  },
  {
   "cell_type": "markdown",
   "metadata": {},
   "source": [
    "* Establish bins for ages\n",
    "\n",
    "\n",
    "* Categorize the existing players using the age bins. Hint: use pd.cut()\n",
    "\n",
    "\n",
    "* Calculate the numbers and percentages by age group\n",
    "\n",
    "\n",
    "* Create a summary data frame to hold the results\n",
    "\n",
    "\n",
    "* Optional: round the percentage column to two decimal points\n",
    "\n",
    "\n",
    "* Display Age Demographics Table\n"
   ]
  },
  {
   "cell_type": "code",
   "execution_count": 110,
   "metadata": {},
   "outputs": [
    {
     "data": {
      "text/html": "<div>\n<style scoped>\n    .dataframe tbody tr th:only-of-type {\n        vertical-align: middle;\n    }\n\n    .dataframe tbody tr th {\n        vertical-align: top;\n    }\n\n    .dataframe thead th {\n        text-align: right;\n    }\n</style>\n<table border=\"1\" class=\"dataframe\">\n  <thead>\n    <tr style=\"text-align: right;\">\n      <th></th>\n      <th>Total Count</th>\n      <th>Percentage of Players</th>\n    </tr>\n    <tr>\n      <th>Age Range</th>\n      <th></th>\n      <th></th>\n    </tr>\n  </thead>\n  <tbody>\n    <tr>\n      <td>&lt;10</td>\n      <td>17</td>\n      <td>2.95%</td>\n    </tr>\n    <tr>\n      <td>10-14</td>\n      <td>22</td>\n      <td>3.82%</td>\n    </tr>\n    <tr>\n      <td>15-19</td>\n      <td>107</td>\n      <td>18.58%</td>\n    </tr>\n    <tr>\n      <td>20-24</td>\n      <td>258</td>\n      <td>44.79%</td>\n    </tr>\n    <tr>\n      <td>25-29</td>\n      <td>77</td>\n      <td>13.37%</td>\n    </tr>\n    <tr>\n      <td>30-34</td>\n      <td>52</td>\n      <td>9.03%</td>\n    </tr>\n    <tr>\n      <td>35-39</td>\n      <td>31</td>\n      <td>5.38%</td>\n    </tr>\n    <tr>\n      <td>40+</td>\n      <td>12</td>\n      <td>2.08%</td>\n    </tr>\n  </tbody>\n</table>\n</div>",
      "text/plain": "           Total Count Percentage of Players\nAge Range                                   \n<10                 17                 2.95%\n10-14               22                 3.82%\n15-19              107                18.58%\n20-24              258                44.79%\n25-29               77                13.37%\n30-34               52                 9.03%\n35-39               31                 5.38%\n40+                 12                 2.08%"
     },
     "execution_count": 110,
     "metadata": {},
     "output_type": "execute_result"
    }
   ],
   "source": [
    "# Create the bins in which Data will be held\n",
    "bins = [0, 9, 14, 19, 24, 29, 34, 39, 100]\n",
    "# Create names for the bins\n",
    "bin_names = [\"<10\", \"10-14\", \"15-19\", \"20-24\", \"25-29\", \"30-34\", \"35-39\", \"40+\"]\n",
    "\n",
    "# Create a new field in the original data frame to hold Age Range info\n",
    "df[\"Age Range\"] = pd.cut(df[\"Age\"], bins, labels=bin_names)\n",
    "df\n",
    "age_range = df.groupby(\"Age Range\") # Apply groupby to original dataframe to group by newly created Age Range object\n",
    "total_by_age = age_range[\"SN\"].nunique() # Count number of entries per age group\n",
    "percent_by_age = (total_by_age/tp) * 100 # Convert to percent\n",
    "\n",
    "df_age = pd.DataFrame({\"Total Count\": total_by_age, \"Percentage of Players\": percent_by_age}) # Create a new dataframe based on age classification\n",
    "\n",
    "df_age['Percentage of Players'] = df_age['Percentage of Players'].map(\"{:,.2f}%\".format) # Apply formatting to percentage display\n",
    "df_age # Note: no sorting applied here as we would like to see this info in the same order as the ascending age groups"
   ]
  },
  {
   "cell_type": "markdown",
   "metadata": {},
   "source": [
    "## Purchasing Analysis (Age)"
   ]
  },
  {
   "cell_type": "markdown",
   "metadata": {},
   "source": [
    "* Bin the purchase_data data frame by age\n",
    "\n",
    "\n",
    "* Run basic calculations to obtain purchase count, avg. purchase price, avg. purchase total per person etc. in the table below\n",
    "\n",
    "\n",
    "* Create a summary data frame to hold the results\n",
    "\n",
    "\n",
    "* Optional: give the displayed data cleaner formatting\n",
    "\n",
    "\n",
    "* Display the summary data frame"
   ]
  },
  {
   "cell_type": "code",
   "execution_count": 111,
   "metadata": {},
   "outputs": [
    {
     "data": {
      "text/html": "<div>\n<style scoped>\n    .dataframe tbody tr th:only-of-type {\n        vertical-align: middle;\n    }\n\n    .dataframe tbody tr th {\n        vertical-align: top;\n    }\n\n    .dataframe thead th {\n        text-align: right;\n    }\n</style>\n<table border=\"1\" class=\"dataframe\">\n  <thead>\n    <tr style=\"text-align: right;\">\n      <th></th>\n      <th>Purchase Count</th>\n      <th>Average Purchase Price</th>\n      <th>Total Purchase Value</th>\n      <th>Avg Total Purchase per Person</th>\n    </tr>\n    <tr>\n      <th>Age Range</th>\n      <th></th>\n      <th></th>\n      <th></th>\n      <th></th>\n    </tr>\n  </thead>\n  <tbody>\n    <tr>\n      <td>&lt;10</td>\n      <td>23</td>\n      <td>$3.35</td>\n      <td>$77.13</td>\n      <td>$4.54</td>\n    </tr>\n    <tr>\n      <td>10-14</td>\n      <td>28</td>\n      <td>$2.96</td>\n      <td>$82.78</td>\n      <td>$3.76</td>\n    </tr>\n    <tr>\n      <td>15-19</td>\n      <td>136</td>\n      <td>$3.04</td>\n      <td>$412.89</td>\n      <td>$3.86</td>\n    </tr>\n    <tr>\n      <td>20-24</td>\n      <td>365</td>\n      <td>$3.05</td>\n      <td>$1,114.06</td>\n      <td>$4.32</td>\n    </tr>\n    <tr>\n      <td>25-29</td>\n      <td>101</td>\n      <td>$2.90</td>\n      <td>$293.00</td>\n      <td>$3.81</td>\n    </tr>\n    <tr>\n      <td>30-34</td>\n      <td>73</td>\n      <td>$2.93</td>\n      <td>$214.00</td>\n      <td>$4.12</td>\n    </tr>\n    <tr>\n      <td>35-39</td>\n      <td>41</td>\n      <td>$3.60</td>\n      <td>$147.67</td>\n      <td>$4.76</td>\n    </tr>\n    <tr>\n      <td>40+</td>\n      <td>13</td>\n      <td>$2.94</td>\n      <td>$38.24</td>\n      <td>$3.19</td>\n    </tr>\n  </tbody>\n</table>\n</div>",
      "text/plain": "           Purchase Count Average Purchase Price Total Purchase Value  \\\nAge Range                                                               \n<10                    23                  $3.35               $77.13   \n10-14                  28                  $2.96               $82.78   \n15-19                 136                  $3.04              $412.89   \n20-24                 365                  $3.05            $1,114.06   \n25-29                 101                  $2.90              $293.00   \n30-34                  73                  $2.93              $214.00   \n35-39                  41                  $3.60              $147.67   \n40+                    13                  $2.94               $38.24   \n\n          Avg Total Purchase per Person  \nAge Range                                \n<10                               $4.54  \n10-14                             $3.76  \n15-19                             $3.86  \n20-24                             $4.32  \n25-29                             $3.81  \n30-34                             $4.12  \n35-39                             $4.76  \n40+                               $3.19  "
     },
     "execution_count": 111,
     "metadata": {},
     "output_type": "execute_result"
    }
   ],
   "source": [
    "#use Groupby to create a group based on Age Range and compute count, mean, etc\n",
    "purchase_count = df.groupby(\"Age Range\")[\"Purchase ID\"].count()\n",
    "avg_purchase_price = df.groupby(\"Age Range\")[\"Price\"].mean()\n",
    "total_purchase_value = df.groupby(\"Age Range\")[\"Price\"].sum()\n",
    "avg_purchase_value_person = total_purchase_value/total_by_age\n",
    "\n",
    "age_purchase_data = pd.DataFrame({\"Purchase Count\": purchase_count, \n",
    "                                    \"Average Purchase Price\": avg_purchase_price,\n",
    "                                    \"Total Purchase Value\":total_purchase_value,\n",
    "                                    \"Avg Total Purchase per Person\": avg_purchase_value_person})\n",
    "\n",
    "#age_purchase_data = age_purchase_data.sort_values([\"Total Purchase Value\"], ascending = False) # Sort this dataframe in descending order of total purchase\n",
    "age_purchase_data['Average Purchase Price'] = age_purchase_data['Average Purchase Price'].map(\"${:,.2f}\".format) # formatting data display\n",
    "age_purchase_data['Total Purchase Value'] = age_purchase_data['Total Purchase Value'].map(\"${:,.2f}\".format) # formatting data display\n",
    "age_purchase_data['Avg Total Purchase per Person'] = age_purchase_data['Avg Total Purchase per Person'].map(\"${:,.2f}\".format) # formatting data display\n",
    "\n",
    "age_purchase_data"
   ]
  },
  {
   "cell_type": "markdown",
   "metadata": {},
   "source": [
    "## Top Spenders"
   ]
  },
  {
   "cell_type": "markdown",
   "metadata": {},
   "source": [
    "* Run basic calculations to obtain the results in the table below\n",
    "\n",
    "\n",
    "* Create a summary data frame to hold the results\n",
    "\n",
    "\n",
    "* Sort the total purchase value column in descending order\n",
    "\n",
    "\n",
    "* Optional: give the displayed data cleaner formatting\n",
    "\n",
    "\n",
    "* Display a preview of the summary data frame\n",
    "\n"
   ]
  },
  {
   "cell_type": "code",
   "execution_count": 112,
   "metadata": {},
   "outputs": [
    {
     "data": {
      "text/html": "<div>\n<style scoped>\n    .dataframe tbody tr th:only-of-type {\n        vertical-align: middle;\n    }\n\n    .dataframe tbody tr th {\n        vertical-align: top;\n    }\n\n    .dataframe thead th {\n        text-align: right;\n    }\n</style>\n<table border=\"1\" class=\"dataframe\">\n  <thead>\n    <tr style=\"text-align: right;\">\n      <th></th>\n      <th>Purchase Count</th>\n      <th>Average Purchase Price</th>\n      <th>Total Purchase Value</th>\n    </tr>\n    <tr>\n      <th>SN</th>\n      <th></th>\n      <th></th>\n      <th></th>\n    </tr>\n  </thead>\n  <tbody>\n    <tr>\n      <td>Lisosia93</td>\n      <td>5</td>\n      <td>$3.79</td>\n      <td>$18.96</td>\n    </tr>\n    <tr>\n      <td>Idastidru52</td>\n      <td>4</td>\n      <td>$3.86</td>\n      <td>$15.45</td>\n    </tr>\n    <tr>\n      <td>Chamjask73</td>\n      <td>3</td>\n      <td>$4.61</td>\n      <td>$13.83</td>\n    </tr>\n    <tr>\n      <td>Iral74</td>\n      <td>4</td>\n      <td>$3.40</td>\n      <td>$13.62</td>\n    </tr>\n    <tr>\n      <td>Iskadarya95</td>\n      <td>3</td>\n      <td>$4.37</td>\n      <td>$13.10</td>\n    </tr>\n    <tr>\n      <td>Ilarin91</td>\n      <td>3</td>\n      <td>$4.23</td>\n      <td>$12.70</td>\n    </tr>\n    <tr>\n      <td>Ialallo29</td>\n      <td>3</td>\n      <td>$3.95</td>\n      <td>$11.84</td>\n    </tr>\n    <tr>\n      <td>Tyidaim51</td>\n      <td>3</td>\n      <td>$3.94</td>\n      <td>$11.83</td>\n    </tr>\n    <tr>\n      <td>Lassilsala30</td>\n      <td>3</td>\n      <td>$3.84</td>\n      <td>$11.51</td>\n    </tr>\n    <tr>\n      <td>Chadolyla44</td>\n      <td>3</td>\n      <td>$3.82</td>\n      <td>$11.46</td>\n    </tr>\n  </tbody>\n</table>\n</div>",
      "text/plain": "              Purchase Count Average Purchase Price Total Purchase Value\nSN                                                                      \nLisosia93                  5                  $3.79               $18.96\nIdastidru52                4                  $3.86               $15.45\nChamjask73                 3                  $4.61               $13.83\nIral74                     4                  $3.40               $13.62\nIskadarya95                3                  $4.37               $13.10\nIlarin91                   3                  $4.23               $12.70\nIalallo29                  3                  $3.95               $11.84\nTyidaim51                  3                  $3.94               $11.83\nLassilsala30               3                  $3.84               $11.51\nChadolyla44                3                  $3.82               $11.46"
     },
     "execution_count": 112,
     "metadata": {},
     "output_type": "execute_result"
    }
   ],
   "source": [
    "#use Groupby to create a group based on SN and compute count, mean, etc\n",
    "purchase_count = df.groupby(\"SN\")[\"Purchase ID\"].count()\n",
    "avg_purchase_price = df.groupby(\"SN\")[\"Price\"].mean()\n",
    "total_purchase_value = df.groupby(\"SN\")[\"Price\"].sum()\n",
    "#avg_purchase_value_person = total_purchase_value/total_by_age\n",
    "\n",
    "user_purchase_data = pd.DataFrame({\"Purchase Count\": purchase_count, \n",
    "                                    \"Average Purchase Price\": avg_purchase_price,\n",
    "                                    \"Total Purchase Value\":total_purchase_value,\n",
    "                                   })\n",
    "\n",
    "user_purchase_data = user_purchase_data.sort_values([\"Total Purchase Value\"], ascending = False) # Sort this dataframe in descending order of total number of purchases\n",
    "user_purchase_data['Average Purchase Price'] = user_purchase_data['Average Purchase Price'].map(\"${:,.2f}\".format) # formatting data display\n",
    "user_purchase_data['Total Purchase Value'] = user_purchase_data['Total Purchase Value'].map(\"${:,.2f}\".format) # formatting data display\n",
    "#user_purchase_data['Avg Total Purchase per Person'] = user_purchase_data['Avg Total Purchase per Person'].map(\"${:,.2f}\".format) # formatting data display\n",
    "\n",
    "user_purchase_data.head(10)"
   ]
  },
  {
   "cell_type": "markdown",
   "metadata": {},
   "source": [
    "## Most Popular Items"
   ]
  },
  {
   "cell_type": "markdown",
   "metadata": {},
   "source": [
    "* Retrieve the Item ID, Item Name, and Item Price columns\n",
    "\n",
    "\n",
    "* Group by Item ID and Item Name. Perform calculations to obtain purchase count, item price, and total purchase value\n",
    "\n",
    "\n",
    "* Create a summary data frame to hold the results\n",
    "\n",
    "\n",
    "* Sort the purchase count column in descending order\n",
    "\n",
    "\n",
    "* Optional: give the displayed data cleaner formatting\n",
    "\n",
    "\n",
    "* Display a preview of the summary data frame\n",
    "\n"
   ]
  },
  {
   "cell_type": "code",
   "execution_count": 113,
   "metadata": {},
   "outputs": [
    {
     "data": {
      "text/html": "<div>\n<style scoped>\n    .dataframe tbody tr th:only-of-type {\n        vertical-align: middle;\n    }\n\n    .dataframe tbody tr th {\n        vertical-align: top;\n    }\n\n    .dataframe thead th {\n        text-align: right;\n    }\n</style>\n<table border=\"1\" class=\"dataframe\">\n  <thead>\n    <tr style=\"text-align: right;\">\n      <th></th>\n      <th></th>\n      <th>Purchase Count</th>\n      <th>Average Purchase Price</th>\n      <th>Total Purchase Value</th>\n    </tr>\n    <tr>\n      <th>Item ID</th>\n      <th>Item Name</th>\n      <th></th>\n      <th></th>\n      <th></th>\n    </tr>\n  </thead>\n  <tbody>\n    <tr>\n      <td>178</td>\n      <td>Oathbreaker, Last Hope of the Breaking Storm</td>\n      <td>12</td>\n      <td>$4.23</td>\n      <td>$50.76</td>\n    </tr>\n    <tr>\n      <td>145</td>\n      <td>Fiery Glass Crusader</td>\n      <td>9</td>\n      <td>$4.58</td>\n      <td>$41.22</td>\n    </tr>\n    <tr>\n      <td>108</td>\n      <td>Extraction, Quickblade Of Trembling Hands</td>\n      <td>9</td>\n      <td>$3.53</td>\n      <td>$31.77</td>\n    </tr>\n    <tr>\n      <td>82</td>\n      <td>Nirvana</td>\n      <td>9</td>\n      <td>$4.90</td>\n      <td>$44.10</td>\n    </tr>\n    <tr>\n      <td>19</td>\n      <td>Pursuit, Cudgel of Necromancy</td>\n      <td>8</td>\n      <td>$1.02</td>\n      <td>$8.16</td>\n    </tr>\n    <tr>\n      <td>103</td>\n      <td>Singed Scalpel</td>\n      <td>8</td>\n      <td>$4.35</td>\n      <td>$34.80</td>\n    </tr>\n    <tr>\n      <td>75</td>\n      <td>Brutality Ivory Warmace</td>\n      <td>8</td>\n      <td>$2.42</td>\n      <td>$19.36</td>\n    </tr>\n    <tr>\n      <td>72</td>\n      <td>Winter's Bite</td>\n      <td>8</td>\n      <td>$3.77</td>\n      <td>$30.16</td>\n    </tr>\n    <tr>\n      <td>60</td>\n      <td>Wolf</td>\n      <td>8</td>\n      <td>$3.54</td>\n      <td>$28.32</td>\n    </tr>\n    <tr>\n      <td>59</td>\n      <td>Lightning, Etcher of the King</td>\n      <td>8</td>\n      <td>$4.23</td>\n      <td>$33.84</td>\n    </tr>\n  </tbody>\n</table>\n</div>",
      "text/plain": "                                                      Purchase Count  \\\nItem ID Item Name                                                      \n178     Oathbreaker, Last Hope of the Breaking Storm              12   \n145     Fiery Glass Crusader                                       9   \n108     Extraction, Quickblade Of Trembling Hands                  9   \n82      Nirvana                                                    9   \n19      Pursuit, Cudgel of Necromancy                              8   \n103     Singed Scalpel                                             8   \n75      Brutality Ivory Warmace                                    8   \n72      Winter's Bite                                              8   \n60      Wolf                                                       8   \n59      Lightning, Etcher of the King                              8   \n\n                                                     Average Purchase Price  \\\nItem ID Item Name                                                             \n178     Oathbreaker, Last Hope of the Breaking Storm                  $4.23   \n145     Fiery Glass Crusader                                          $4.58   \n108     Extraction, Quickblade Of Trembling Hands                     $3.53   \n82      Nirvana                                                       $4.90   \n19      Pursuit, Cudgel of Necromancy                                 $1.02   \n103     Singed Scalpel                                                $4.35   \n75      Brutality Ivory Warmace                                       $2.42   \n72      Winter's Bite                                                 $3.77   \n60      Wolf                                                          $3.54   \n59      Lightning, Etcher of the King                                 $4.23   \n\n                                                     Total Purchase Value  \nItem ID Item Name                                                          \n178     Oathbreaker, Last Hope of the Breaking Storm               $50.76  \n145     Fiery Glass Crusader                                       $41.22  \n108     Extraction, Quickblade Of Trembling Hands                  $31.77  \n82      Nirvana                                                    $44.10  \n19      Pursuit, Cudgel of Necromancy                               $8.16  \n103     Singed Scalpel                                             $34.80  \n75      Brutality Ivory Warmace                                    $19.36  \n72      Winter's Bite                                              $30.16  \n60      Wolf                                                       $28.32  \n59      Lightning, Etcher of the King                              $33.84  "
     },
     "execution_count": 113,
     "metadata": {},
     "output_type": "execute_result"
    }
   ],
   "source": [
    "# create a new sub-dataframe to hold just the Item ID, Item Name and Price info\n",
    "df_items = df[[\"Item ID\", \"Item Name\", \"Price\"]] #\n",
    "# df_items\n",
    "# temp=df_items.groupby([\"Item ID\", \"Item Name\"])\n",
    "# temp\n",
    "purchase_count = df_items.groupby([\"Item ID\", \"Item Name\"])[\"Price\"].count()\n",
    "avg_purchase_price = df_items.groupby([\"Item ID\", \"Item Name\"])[\"Price\"].mean()\n",
    "total_purchase_value = df_items.groupby([\"Item ID\", \"Item Name\"])[\"Price\"].sum()\n",
    "\n",
    "\n",
    "item_purchase_data = pd.DataFrame({\"Purchase Count\": purchase_count, \n",
    "                                    \"Average Purchase Price\": avg_purchase_price,\n",
    "                                    \"Total Purchase Value\":total_purchase_value,\n",
    "                                   })\n",
    "\n",
    "item_purchase_data_sort1 = item_purchase_data.sort_values([\"Purchase Count\"], ascending = False) # Sort this dataframe in descending order of total number of purchases\n",
    "\n",
    "item_purchase_data_sort1['Average Purchase Price'] = item_purchase_data_sort1['Average Purchase Price'].map(\"${:,.2f}\".format) # formatting data display\n",
    "item_purchase_data_sort1['Total Purchase Value'] = item_purchase_data_sort1['Total Purchase Value'].map(\"${:,.2f}\".format) # formatting data display\n",
    "item_purchase_data_sort1.head(10)"
   ]
  },
  {
   "cell_type": "markdown",
   "metadata": {},
   "source": [
    "## Most Profitable Items"
   ]
  },
  {
   "cell_type": "markdown",
   "metadata": {},
   "source": [
    "* Sort the above table by total purchase value in descending order\n",
    "\n",
    "\n",
    "* Optional: give the displayed data cleaner formatting\n",
    "\n",
    "\n",
    "* Display a preview of the data frame\n",
    "\n"
   ]
  },
  {
   "cell_type": "code",
   "execution_count": 114,
   "metadata": {},
   "outputs": [
    {
     "data": {
      "text/html": "<div>\n<style scoped>\n    .dataframe tbody tr th:only-of-type {\n        vertical-align: middle;\n    }\n\n    .dataframe tbody tr th {\n        vertical-align: top;\n    }\n\n    .dataframe thead th {\n        text-align: right;\n    }\n</style>\n<table border=\"1\" class=\"dataframe\">\n  <thead>\n    <tr style=\"text-align: right;\">\n      <th></th>\n      <th></th>\n      <th>Purchase Count</th>\n      <th>Average Purchase Price</th>\n      <th>Total Purchase Value</th>\n    </tr>\n    <tr>\n      <th>Item ID</th>\n      <th>Item Name</th>\n      <th></th>\n      <th></th>\n      <th></th>\n    </tr>\n  </thead>\n  <tbody>\n    <tr>\n      <td>178</td>\n      <td>Oathbreaker, Last Hope of the Breaking Storm</td>\n      <td>12</td>\n      <td>$4.23</td>\n      <td>$50.76</td>\n    </tr>\n    <tr>\n      <td>82</td>\n      <td>Nirvana</td>\n      <td>9</td>\n      <td>$4.90</td>\n      <td>$44.10</td>\n    </tr>\n    <tr>\n      <td>145</td>\n      <td>Fiery Glass Crusader</td>\n      <td>9</td>\n      <td>$4.58</td>\n      <td>$41.22</td>\n    </tr>\n    <tr>\n      <td>92</td>\n      <td>Final Critic</td>\n      <td>8</td>\n      <td>$4.88</td>\n      <td>$39.04</td>\n    </tr>\n    <tr>\n      <td>103</td>\n      <td>Singed Scalpel</td>\n      <td>8</td>\n      <td>$4.35</td>\n      <td>$34.80</td>\n    </tr>\n    <tr>\n      <td>59</td>\n      <td>Lightning, Etcher of the King</td>\n      <td>8</td>\n      <td>$4.23</td>\n      <td>$33.84</td>\n    </tr>\n    <tr>\n      <td>108</td>\n      <td>Extraction, Quickblade Of Trembling Hands</td>\n      <td>9</td>\n      <td>$3.53</td>\n      <td>$31.77</td>\n    </tr>\n    <tr>\n      <td>78</td>\n      <td>Glimmer, Ender of the Moon</td>\n      <td>7</td>\n      <td>$4.40</td>\n      <td>$30.80</td>\n    </tr>\n    <tr>\n      <td>72</td>\n      <td>Winter's Bite</td>\n      <td>8</td>\n      <td>$3.77</td>\n      <td>$30.16</td>\n    </tr>\n    <tr>\n      <td>60</td>\n      <td>Wolf</td>\n      <td>8</td>\n      <td>$3.54</td>\n      <td>$28.32</td>\n    </tr>\n  </tbody>\n</table>\n</div>",
      "text/plain": "                                                      Purchase Count  \\\nItem ID Item Name                                                      \n178     Oathbreaker, Last Hope of the Breaking Storm              12   \n82      Nirvana                                                    9   \n145     Fiery Glass Crusader                                       9   \n92      Final Critic                                               8   \n103     Singed Scalpel                                             8   \n59      Lightning, Etcher of the King                              8   \n108     Extraction, Quickblade Of Trembling Hands                  9   \n78      Glimmer, Ender of the Moon                                 7   \n72      Winter's Bite                                              8   \n60      Wolf                                                       8   \n\n                                                     Average Purchase Price  \\\nItem ID Item Name                                                             \n178     Oathbreaker, Last Hope of the Breaking Storm                  $4.23   \n82      Nirvana                                                       $4.90   \n145     Fiery Glass Crusader                                          $4.58   \n92      Final Critic                                                  $4.88   \n103     Singed Scalpel                                                $4.35   \n59      Lightning, Etcher of the King                                 $4.23   \n108     Extraction, Quickblade Of Trembling Hands                     $3.53   \n78      Glimmer, Ender of the Moon                                    $4.40   \n72      Winter's Bite                                                 $3.77   \n60      Wolf                                                          $3.54   \n\n                                                     Total Purchase Value  \nItem ID Item Name                                                          \n178     Oathbreaker, Last Hope of the Breaking Storm               $50.76  \n82      Nirvana                                                    $44.10  \n145     Fiery Glass Crusader                                       $41.22  \n92      Final Critic                                               $39.04  \n103     Singed Scalpel                                             $34.80  \n59      Lightning, Etcher of the King                              $33.84  \n108     Extraction, Quickblade Of Trembling Hands                  $31.77  \n78      Glimmer, Ender of the Moon                                 $30.80  \n72      Winter's Bite                                              $30.16  \n60      Wolf                                                       $28.32  "
     },
     "execution_count": 114,
     "metadata": {},
     "output_type": "execute_result"
    }
   ],
   "source": [
    "item_purchase_data_sort2 = item_purchase_data.sort_values([\"Total Purchase Value\"], ascending = False) # Sort this dataframe in descending order of total number of purchases\n",
    "\n",
    "item_purchase_data_sort2['Average Purchase Price'] = item_purchase_data_sort2['Average Purchase Price'].map(\"${:,.2f}\".format) # formatting data display\n",
    "item_purchase_data_sort2['Total Purchase Value'] = item_purchase_data_sort2['Total Purchase Value'].map(\"${:,.2f}\".format) # formatting data display\n",
    "item_purchase_data_sort2.head(10)"
   ]
  },
  {
   "cell_type": "code",
   "execution_count": null,
   "metadata": {},
   "outputs": [],
   "source": []
  }
 ],
 "metadata": {
  "anaconda-cloud": {},
  "kernel_info": {
   "name": "python3"
  },
  "kernelspec": {
   "display_name": "Python 3",
   "language": "python",
   "name": "python3"
  },
  "language_info": {
   "codemirror_mode": {
    "name": "ipython",
    "version": 3
   },
   "file_extension": ".py",
   "mimetype": "text/x-python",
   "name": "python",
   "nbconvert_exporter": "python",
   "pygments_lexer": "ipython3",
   "version": "3.7.4-final"
  },
  "latex_envs": {
   "LaTeX_envs_menu_present": true,
   "autoclose": false,
   "autocomplete": true,
   "bibliofile": "biblio.bib",
   "cite_by": "apalike",
   "current_citInitial": 1,
   "eqLabelWithNumbers": true,
   "eqNumInitial": 1,
   "hotkeys": {
    "equation": "Ctrl-E",
    "itemize": "Ctrl-I"
   },
   "labels_anchors": false,
   "latex_user_defs": false,
   "report_style_numbering": false,
   "user_envs_cfg": false
  },
  "nteract": {
   "version": "0.2.0"
  }
 },
 "nbformat": 4,
 "nbformat_minor": 2
}